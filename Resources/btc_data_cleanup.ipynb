{
 "cells": [
  {
   "cell_type": "code",
   "execution_count": 1,
   "id": "ahead-default",
   "metadata": {},
   "outputs": [],
   "source": [
    "import pandas as pd"
   ]
  },
  {
   "cell_type": "code",
   "execution_count": 2,
   "id": "hawaiian-mongolia",
   "metadata": {},
   "outputs": [],
   "source": [
    "btc_data = pd.read_json('bitcoin.json')"
   ]
  },
  {
   "cell_type": "code",
   "execution_count": 3,
   "id": "intensive-dryer",
   "metadata": {},
   "outputs": [],
   "source": [
    "btc_data.to_csv('btc_data.csv')"
   ]
  },
  {
   "cell_type": "code",
   "execution_count": 8,
   "id": "broke-classic",
   "metadata": {},
   "outputs": [],
   "source": [
    "peso_data = pd.read_json('MXN_peso.json')\n",
    "cad_data = pd.read_json('CAD_dollar.json')\n",
    "peso_data.to_csv('peso_data.csv')\n",
    "cad_data.to_csv('cad_data.csv')"
   ]
  },
  {
   "cell_type": "code",
   "execution_count": null,
   "id": "german-christianity",
   "metadata": {},
   "outputs": [],
   "source": []
  }
 ],
 "metadata": {
  "kernelspec": {
   "display_name": "Python 3",
   "language": "python",
   "name": "python3"
  },
  "language_info": {
   "codemirror_mode": {
    "name": "ipython",
    "version": 3
   },
   "file_extension": ".py",
   "mimetype": "text/x-python",
   "name": "python",
   "nbconvert_exporter": "python",
   "pygments_lexer": "ipython3",
   "version": "3.7.9"
  }
 },
 "nbformat": 4,
 "nbformat_minor": 5
}
