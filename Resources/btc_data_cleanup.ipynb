{
 "cells": [
  {
   "cell_type": "code",
   "execution_count": 1,
   "id": "raised-provincial",
   "metadata": {},
   "outputs": [],
   "source": [
    "import pandas as pd"
   ]
  },
  {
   "cell_type": "code",
   "execution_count": 2,
   "id": "comparative-monday",
   "metadata": {},
   "outputs": [],
   "source": [
    "btc_data = pd.read_json(r'C:\\Users\\jesus\\Project\\Resources\\bitcoin.json')"
   ]
  },
  {
   "cell_type": "code",
   "execution_count": 3,
   "id": "industrial-sperm",
   "metadata": {},
   "outputs": [],
   "source": [
    "btc_data.to_csv('btc_data.csv')"
   ]
  },
  {
   "cell_type": "code",
   "execution_count": null,
   "id": "defined-shelf",
   "metadata": {},
   "outputs": [],
   "source": []
  }
 ],
 "metadata": {
  "kernelspec": {
   "display_name": "Python 3",
   "language": "python",
   "name": "python3"
  },
  "language_info": {
   "codemirror_mode": {
    "name": "ipython",
    "version": 3
   },
   "file_extension": ".py",
   "mimetype": "text/x-python",
   "name": "python",
   "nbconvert_exporter": "python",
   "pygments_lexer": "ipython3",
   "version": "3.7.9"
  }
 },
 "nbformat": 4,
 "nbformat_minor": 5
}
