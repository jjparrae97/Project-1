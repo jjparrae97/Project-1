{
 "cells": [
  {
   "cell_type": "code",
   "execution_count": 1,
   "metadata": {},
   "outputs": [],
   "source": [
    "#Importing pandas and Path\n",
    "import pandas as pd\n",
    "from pathlib import Path"
   ]
  },
  {
   "cell_type": "code",
   "execution_count": 2,
   "metadata": {},
   "outputs": [],
   "source": [
    "#Importing json files from Postman\n",
    "btc_json = pd.read_json('bitcoin.json')\n",
    "peso_json = pd.read_json('MXN_peso.json')\n",
    "cad_json = pd.read_json('CAD_dollar.json')\n",
    "\n",
    "#Saving json files as CSV files\n",
    "btc_json.to_csv('btc_data.csv')\n",
    "peso_json.to_csv('peso_data.csv')\n",
    "cad_json.to_csv('cad_data.csv')"
   ]
  },
  {
   "cell_type": "code",
   "execution_count": 3,
   "metadata": {},
   "outputs": [],
   "source": [
    "#Setting variables for CSV files\n",
    "btc_data = pd.read_csv(Path('btc_data.csv'))\n",
    "peso_data = pd.read_csv(Path('peso_data.csv'))\n",
    "cad_data = pd.read_csv(Path('cad_data.csv'))"
   ]
  },
  {
   "cell_type": "code",
   "execution_count": 4,
   "metadata": {},
   "outputs": [
    {
     "data": {
      "text/html": [
       "<div>\n",
       "<style scoped>\n",
       "    .dataframe tbody tr th:only-of-type {\n",
       "        vertical-align: middle;\n",
       "    }\n",
       "\n",
       "    .dataframe tbody tr th {\n",
       "        vertical-align: top;\n",
       "    }\n",
       "\n",
       "    .dataframe thead th {\n",
       "        text-align: right;\n",
       "    }\n",
       "</style>\n",
       "<table border=\"1\" class=\"dataframe\">\n",
       "  <thead>\n",
       "    <tr style=\"text-align: right;\">\n",
       "      <th></th>\n",
       "      <th>BTC to USD</th>\n",
       "    </tr>\n",
       "    <tr>\n",
       "      <th>Date</th>\n",
       "      <th></th>\n",
       "    </tr>\n",
       "  </thead>\n",
       "  <tbody>\n",
       "    <tr>\n",
       "      <th>2013-09-01</th>\n",
       "      <td>128.2597</td>\n",
       "    </tr>\n",
       "    <tr>\n",
       "      <th>2013-09-02</th>\n",
       "      <td>127.3648</td>\n",
       "    </tr>\n",
       "    <tr>\n",
       "      <th>2013-09-03</th>\n",
       "      <td>127.5915</td>\n",
       "    </tr>\n",
       "    <tr>\n",
       "      <th>2013-09-04</th>\n",
       "      <td>120.5738</td>\n",
       "    </tr>\n",
       "    <tr>\n",
       "      <th>2013-09-05</th>\n",
       "      <td>120.5333</td>\n",
       "    </tr>\n",
       "  </tbody>\n",
       "</table>\n",
       "</div>"
      ],
      "text/plain": [
       "            BTC to USD\n",
       "Date                  \n",
       "2013-09-01    128.2597\n",
       "2013-09-02    127.3648\n",
       "2013-09-03    127.5915\n",
       "2013-09-04    120.5738\n",
       "2013-09-05    120.5333"
      ]
     },
     "execution_count": 4,
     "metadata": {},
     "output_type": "execute_result"
    }
   ],
   "source": [
    "#Cleaning up Bitcoin data, removing extra rows and columns\n",
    "btc_df = btc_data.drop(index=[1831, 1832], columns=['disclaimer', 'time'])\n",
    "#Renaming columns to more uniform names\n",
    "btc_df.rename(columns={'Unnamed: 0':'Date','bpi':'BTC to USD'}, inplace=True)\n",
    "#Grouping by date\n",
    "btc_grp = btc_df.groupby('Date').sum()\n",
    "#Displaying sample\n",
    "btc_grp.head()"
   ]
  },
  {
   "cell_type": "code",
   "execution_count": 5,
   "metadata": {},
   "outputs": [
    {
     "data": {
      "text/html": [
       "<div>\n",
       "<style scoped>\n",
       "    .dataframe tbody tr th:only-of-type {\n",
       "        vertical-align: middle;\n",
       "    }\n",
       "\n",
       "    .dataframe tbody tr th {\n",
       "        vertical-align: top;\n",
       "    }\n",
       "\n",
       "    .dataframe thead th {\n",
       "        text-align: right;\n",
       "    }\n",
       "</style>\n",
       "<table border=\"1\" class=\"dataframe\">\n",
       "  <thead>\n",
       "    <tr style=\"text-align: right;\">\n",
       "      <th></th>\n",
       "      <th>MXN to USD</th>\n",
       "    </tr>\n",
       "    <tr>\n",
       "      <th>Date</th>\n",
       "      <th></th>\n",
       "    </tr>\n",
       "  </thead>\n",
       "  <tbody>\n",
       "    <tr>\n",
       "      <th>2013-09-02</th>\n",
       "      <td>0.0752445576</td>\n",
       "    </tr>\n",
       "    <tr>\n",
       "      <th>2013-09-03</th>\n",
       "      <td>0.0744879378</td>\n",
       "    </tr>\n",
       "    <tr>\n",
       "      <th>2013-09-04</th>\n",
       "      <td>0.0750215023</td>\n",
       "    </tr>\n",
       "    <tr>\n",
       "      <th>2013-09-05</th>\n",
       "      <td>0.0745808289</td>\n",
       "    </tr>\n",
       "    <tr>\n",
       "      <th>2013-09-06</th>\n",
       "      <td>0.075046915</td>\n",
       "    </tr>\n",
       "  </tbody>\n",
       "</table>\n",
       "</div>"
      ],
      "text/plain": [
       "               MXN to USD\n",
       "Date                     \n",
       "2013-09-02   0.0752445576\n",
       "2013-09-03   0.0744879378\n",
       "2013-09-04   0.0750215023\n",
       "2013-09-05   0.0745808289\n",
       "2013-09-06    0.075046915"
      ]
     },
     "execution_count": 5,
     "metadata": {},
     "output_type": "execute_result"
    }
   ],
   "source": [
    "#Cleaning up Mexican Peso data, removing extra rows and columns\n",
    "peso_df = peso_data.drop(['start_at', 'base', 'end_at'], axis=1)\n",
    "#Renaming columns to more uniform names\n",
    "peso_df.rename(columns={'Unnamed: 0':'Date', 'rates':'MXN to USD'}, inplace=True)\n",
    "#Grouping by date\n",
    "peso_grp = peso_df.groupby('Date').sum()\n",
    "#Removing special characters (except for . to maintain decimals)\n",
    "peso_grp['MXN to USD'] = peso_grp['MXN to USD'].str.replace(\"'USD':\", '').str.strip('{}')\n",
    "#Displaying sample\n",
    "peso_grp.head()"
   ]
  },
  {
   "cell_type": "code",
   "execution_count": 6,
   "metadata": {},
   "outputs": [
    {
     "data": {
      "text/html": [
       "<div>\n",
       "<style scoped>\n",
       "    .dataframe tbody tr th:only-of-type {\n",
       "        vertical-align: middle;\n",
       "    }\n",
       "\n",
       "    .dataframe tbody tr th {\n",
       "        vertical-align: top;\n",
       "    }\n",
       "\n",
       "    .dataframe thead th {\n",
       "        text-align: right;\n",
       "    }\n",
       "</style>\n",
       "<table border=\"1\" class=\"dataframe\">\n",
       "  <thead>\n",
       "    <tr style=\"text-align: right;\">\n",
       "      <th></th>\n",
       "      <th>CAD to USD</th>\n",
       "    </tr>\n",
       "    <tr>\n",
       "      <th>Date</th>\n",
       "      <th></th>\n",
       "    </tr>\n",
       "  </thead>\n",
       "  <tbody>\n",
       "    <tr>\n",
       "      <th>2013-09-02</th>\n",
       "      <td>0.9496656360000001</td>\n",
       "    </tr>\n",
       "    <tr>\n",
       "      <th>2013-09-03</th>\n",
       "      <td>0.9500865551000001</td>\n",
       "    </tr>\n",
       "    <tr>\n",
       "      <th>2013-09-04</th>\n",
       "      <td>0.9534530187</td>\n",
       "    </tr>\n",
       "    <tr>\n",
       "      <th>2013-09-05</th>\n",
       "      <td>0.9541085495</td>\n",
       "    </tr>\n",
       "    <tr>\n",
       "      <th>2013-09-06</th>\n",
       "      <td>0.9587048677000001</td>\n",
       "    </tr>\n",
       "  </tbody>\n",
       "</table>\n",
       "</div>"
      ],
      "text/plain": [
       "                     CAD to USD\n",
       "Date                           \n",
       "2013-09-02   0.9496656360000001\n",
       "2013-09-03   0.9500865551000001\n",
       "2013-09-04         0.9534530187\n",
       "2013-09-05         0.9541085495\n",
       "2013-09-06   0.9587048677000001"
      ]
     },
     "execution_count": 6,
     "metadata": {},
     "output_type": "execute_result"
    }
   ],
   "source": [
    "#Cleaning up Canadian Dollar data, removing extra rows and columns\n",
    "cad_df = cad_data.drop(['start_at', 'base', 'end_at'], axis=1)\n",
    "#Renaming columns to more uniform names\n",
    "cad_df.rename(columns={'Unnamed: 0':'Date', 'rates':'CAD to USD'}, inplace=True)\n",
    "#Grouping by date\n",
    "cad_grp = cad_df.groupby('Date').sum()\n",
    "#Removing special characters (except for . to maintain decimals)\n",
    "cad_grp['CAD to USD'] = cad_grp['CAD to USD'].str.replace(\"'USD':\", '').str.strip('{}')\n",
    "#Displaying sample\n",
    "cad_grp.head()"
   ]
  },
  {
   "cell_type": "code",
   "execution_count": 7,
   "metadata": {},
   "outputs": [
    {
     "data": {
      "text/html": [
       "<div>\n",
       "<style scoped>\n",
       "    .dataframe tbody tr th:only-of-type {\n",
       "        vertical-align: middle;\n",
       "    }\n",
       "\n",
       "    .dataframe tbody tr th {\n",
       "        vertical-align: top;\n",
       "    }\n",
       "\n",
       "    .dataframe thead th {\n",
       "        text-align: right;\n",
       "    }\n",
       "</style>\n",
       "<table border=\"1\" class=\"dataframe\">\n",
       "  <thead>\n",
       "    <tr style=\"text-align: right;\">\n",
       "      <th></th>\n",
       "      <th>CAD to USD</th>\n",
       "      <th>MXN to USD</th>\n",
       "      <th>BTC to USD</th>\n",
       "    </tr>\n",
       "    <tr>\n",
       "      <th>Date</th>\n",
       "      <th></th>\n",
       "      <th></th>\n",
       "      <th></th>\n",
       "    </tr>\n",
       "  </thead>\n",
       "  <tbody>\n",
       "    <tr>\n",
       "      <th>2013-09-02</th>\n",
       "      <td>0.9496656360000001</td>\n",
       "      <td>0.0752445576</td>\n",
       "      <td>127.3648</td>\n",
       "    </tr>\n",
       "    <tr>\n",
       "      <th>2013-09-03</th>\n",
       "      <td>0.9500865551000001</td>\n",
       "      <td>0.0744879378</td>\n",
       "      <td>127.5915</td>\n",
       "    </tr>\n",
       "    <tr>\n",
       "      <th>2013-09-04</th>\n",
       "      <td>0.9534530187</td>\n",
       "      <td>0.0750215023</td>\n",
       "      <td>120.5738</td>\n",
       "    </tr>\n",
       "    <tr>\n",
       "      <th>2013-09-05</th>\n",
       "      <td>0.9541085495</td>\n",
       "      <td>0.0745808289</td>\n",
       "      <td>120.5333</td>\n",
       "    </tr>\n",
       "    <tr>\n",
       "      <th>2013-09-06</th>\n",
       "      <td>0.9587048677000001</td>\n",
       "      <td>0.075046915</td>\n",
       "      <td>116.3210</td>\n",
       "    </tr>\n",
       "  </tbody>\n",
       "</table>\n",
       "</div>"
      ],
      "text/plain": [
       "                     CAD to USD     MXN to USD  BTC to USD\n",
       "Date                                                      \n",
       "2013-09-02   0.9496656360000001   0.0752445576    127.3648\n",
       "2013-09-03   0.9500865551000001   0.0744879378    127.5915\n",
       "2013-09-04         0.9534530187   0.0750215023    120.5738\n",
       "2013-09-05         0.9541085495   0.0745808289    120.5333\n",
       "2013-09-06   0.9587048677000001    0.075046915    116.3210"
      ]
     },
     "execution_count": 7,
     "metadata": {},
     "output_type": "execute_result"
    }
   ],
   "source": [
    "#Concatenating lists, index set to Date\n",
    "currency_data = pd.concat([cad_grp, peso_grp, btc_grp], axis=\"columns\", join=\"inner\")\n",
    "#Exporting DataFrame to CSV file currency_data.csv\n",
    "currency_data.to_csv(\"currency_data.csv\")\n",
    "\n",
    "currency_data.head()"
   ]
  },
  {
   "cell_type": "code",
   "execution_count": 21,
   "metadata": {},
   "outputs": [
    {
     "data": {
      "image/png": "[encoded data removed]",
      "text/plain": [
       "<Figure size 720x720 with 1 Axes>"
      ]
     },
     "metadata": {
      "needs_background": "light"
     },
     "output_type": "display_data"
    }
   ],
   "source": [
    "#Compare (plot) volatilty of the 4 currencies \n",
    "currency_data.plot(figsize=(10,10));\n",
    "\n",
    "#Pull historics from Canada, use currency converter to go from looney to USD.\n",
    "\n",
    "#Create csv file with new converted currency\n",
    "\n",
    "#Pull historics from Mexico, use currency converter to go from peso to USD\n",
    "\n",
    "#Create csv file with new converted currency\n",
    "\n",
    "\n",
    "##Note this shows extreme volatility in bitcoin relative to the other currencies. See below graph for closer insight on Peso & Looney"
   ]
  },
  {
   "cell_type": "code",
   "execution_count": 17,
   "metadata": {},
   "outputs": [
    {
     "data": {
      "text/plain": [
       "CAD to USD    float64\n",
       "MXN to USD    float64\n",
       "BTC to USD    float64\n",
       "dtype: object"
      ]
     },
     "execution_count": 17,
     "metadata": {},
     "output_type": "execute_result"
    }
   ],
   "source": [
    "currency_data.dtypes"
   ]
  },
  {
   "cell_type": "code",
   "execution_count": 14,
   "metadata": {},
   "outputs": [],
   "source": [
    "currency_data['CAD to USD'] = currency_data['CAD to USD'].astype(\"float\")"
   ]
  },
  {
   "cell_type": "code",
   "execution_count": 16,
   "metadata": {},
   "outputs": [],
   "source": [
    "currency_data['MXN to USD'] = currency_data['MXN to USD'].astype(\"float\")"
   ]
  },
  {
   "cell_type": "code",
   "execution_count": 20,
   "metadata": {},
   "outputs": [
    {
     "data": {
      "image/png": "[encoded data removed]",
      "text/plain": [
       "<Figure size 720x720 with 1 Axes>"
      ]
     },
     "metadata": {
      "needs_background": "light"
     },
     "output_type": "display_data"
    }
   ],
   "source": [
    "currency_data[[\"CAD to USD\",\"MXN to USD\"]].plot(figsize=(10,10));"
   ]
  },
  {
   "cell_type": "code",
   "execution_count": null,
   "metadata": {},
   "outputs": [],
   "source": []
  }
 ],
 "metadata": {
  "kernelspec": {
   "display_name": "Python 3",
   "language": "python",
   "name": "python3"
  },
  "language_info": {
   "codemirror_mode": {
    "name": "ipython",
    "version": 3
   },
   "file_extension": ".py",
   "mimetype": "text/x-python",
   "name": "python",
   "nbconvert_exporter": "python",
   "pygments_lexer": "ipython3",
   "version": "3.7.9"
  }
 },
 "nbformat": 4,
 "nbformat_minor": 5
}
