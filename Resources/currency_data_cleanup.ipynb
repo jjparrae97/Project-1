{
 "cells": [
  {
   "cell_type": "code",
   "execution_count": null,
   "id": "studied-whale",
   "metadata": {},
   "outputs": [],
   "source": [
    "GET https://api.exchangeratesapi.io/history?start_at=2018-01-01&end_at=2018-09-01"
   ]
  }
 ],
 "metadata": {
  "kernelspec": {
   "display_name": "Python 3",
   "language": "python",
   "name": "python3"
  },
  "language_info": {
   "codemirror_mode": {
    "name": "ipython",
    "version": 3
   },
   "file_extension": ".py",
   "mimetype": "text/x-python",
   "name": "python",
   "nbconvert_exporter": "python",
   "pygments_lexer": "ipython3",
   "version": "3.7.9"
  }
 },
 "nbformat": 4,
 "nbformat_minor": 5
}
